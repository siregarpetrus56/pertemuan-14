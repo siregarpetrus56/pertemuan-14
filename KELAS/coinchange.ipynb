{
 "cells": [
  {
   "cell_type": "code",
   "execution_count": 10,
   "id": "b1c83eec",
   "metadata": {},
   "outputs": [],
   "source": [
    "def coinChange(totalNumber, coins):\n",
    "    N =totalNumber\n",
    "    coins.sort()\n",
    "    index = len(coins)-1\n",
    "    while True:\n",
    "        coinValue = coins[index]\n",
    "        if N >= coinValue:\n",
    "            print(coinValue)\n",
    "            N = N - coinValue\n",
    "        if N < coinValue:\n",
    "            index -= 1\n",
    "        if N == 0:\n",
    "            break"
   ]
  },
  {
   "cell_type": "code",
   "execution_count": 11,
   "id": "3500bf18",
   "metadata": {},
   "outputs": [],
   "source": [
    "coins = [1,2,5,20,50,100]"
   ]
  },
  {
   "cell_type": "code",
   "execution_count": 12,
   "id": "09c8bffd",
   "metadata": {},
   "outputs": [
    {
     "name": "stdout",
     "output_type": "stream",
     "text": [
      "100\n",
      "100\n",
      "1\n"
     ]
    }
   ],
   "source": [
    "coinChange(201, coins)"
   ]
  },
  {
   "cell_type": "code",
   "execution_count": null,
   "id": "a93be3fa",
   "metadata": {},
   "outputs": [],
   "source": []
  }
 ],
 "metadata": {
  "kernelspec": {
   "display_name": "Python 3 (ipykernel)",
   "language": "python",
   "name": "python3"
  },
  "language_info": {
   "codemirror_mode": {
    "name": "ipython",
    "version": 3
   },
   "file_extension": ".py",
   "mimetype": "text/x-python",
   "name": "python",
   "nbconvert_exporter": "python",
   "pygments_lexer": "ipython3",
   "version": "3.9.12"
  }
 },
 "nbformat": 4,
 "nbformat_minor": 5
}
