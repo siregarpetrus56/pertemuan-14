{
 "cells": [
  {
   "cell_type": "code",
   "execution_count": null,
   "metadata": {},
   "outputs": [],
   "source": [
    "def findMinOperation(s1, s2, index1, index2):\n",
    "    if index1 == len(s1):\n",
    "        return len(s2)-index2\n",
    "    if index2 == len(s2):\n",
    "        return len(s1)-index1\n",
    "    if s1[index1] == s2[index2]:\n",
    "        return findMinOperation(s1, s2, index1+1, index2+1)\n",
    "    else:\n",
    "        deleteOp = 1 + findMinOperation(s1, s2, index1, index2+1)\n",
    "        insertOp = 1 + findMinOperation(s1, s2, index1+1, index2)\n",
    "        replaceOp = 1 + findMinOperation(s1, s2, index1+1, index2+1)\n",
    "        return min (deleteOp, insertOp, replaceOp)\n",
    "\n",
    "print(findMinOperation(\"table\", \"tbrltt\", 0, 0))"
   ]
  }
 ],
 "metadata": {
  "kernelspec": {
   "display_name": "Python 3",
   "language": "python",
   "name": "python3"
  },
  "language_info": {
   "name": "python",
   "version": "3.10.10"
  },
  "orig_nbformat": 4
 },
 "nbformat": 4,
 "nbformat_minor": 2
}
