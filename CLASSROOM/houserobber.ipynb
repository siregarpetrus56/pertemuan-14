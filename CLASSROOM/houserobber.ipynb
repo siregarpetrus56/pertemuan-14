{
 "cells": [
  {
   "cell_type": "code",
   "execution_count": 1,
   "metadata": {},
   "outputs": [
    {
     "name": "stdout",
     "output_type": "stream",
     "text": [
      "41\n"
     ]
    }
   ],
   "source": [
    "def houseRobber(houses, currentIndex):\n",
    "    if currentIndex >= len(houses):\n",
    "        return 0\n",
    "    else:\n",
    "        stealFirstHouse = houses[currentIndex] + houseRobber(houses, currentIndex + 2)\n",
    "        skipFirstHouse = houseRobber(houses, currentIndex+1)\n",
    "        return max(stealFirstHouse, skipFirstHouse)\n",
    "\n",
    "houses = [6,7,1,30,8,2,4]\n",
    "print(houseRobber(houses, 0))"
   ]
  }
 ],
 "metadata": {
  "kernelspec": {
   "display_name": "Python 3",
   "language": "python",
   "name": "python3"
  },
  "language_info": {
   "codemirror_mode": {
    "name": "ipython",
    "version": 3
   },
   "file_extension": ".py",
   "mimetype": "text/x-python",
   "name": "python",
   "nbconvert_exporter": "python",
   "pygments_lexer": "ipython3",
   "version": "3.10.10"
  },
  "orig_nbformat": 4
 },
 "nbformat": 4,
 "nbformat_minor": 2
}
