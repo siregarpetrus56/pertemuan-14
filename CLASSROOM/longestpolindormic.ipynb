{
 "cells": [
  {
   "cell_type": "code",
   "execution_count": 1,
   "metadata": {},
   "outputs": [
    {
     "name": "stdout",
     "output_type": "stream",
     "text": [
      "5\n"
     ]
    }
   ],
   "source": [
    "def findLPS(s, startIndex, endIndex):\n",
    "    if startIndex > endIndex:\n",
    "        return 0\n",
    "    elif startIndex == endIndex:\n",
    "        return 1\n",
    "    elif s[startIndex] == s[endIndex]:\n",
    "        return 2 + findLPS(s, startIndex+1, endIndex-1)\n",
    "    else:\n",
    "        op1 = findLPS(s, startIndex, endIndex-1)\n",
    "        op2 = findLPS(s, startIndex+1, endIndex)\n",
    "        return max(op1, op2)\n",
    "\n",
    "print(findLPS(\"ELRMENMET\", 0, 8))"
   ]
  }
 ],
 "metadata": {
  "kernelspec": {
   "display_name": "Python 3",
   "language": "python",
   "name": "python3"
  },
  "language_info": {
   "codemirror_mode": {
    "name": "ipython",
    "version": 3
   },
   "file_extension": ".py",
   "mimetype": "text/x-python",
   "name": "python",
   "nbconvert_exporter": "python",
   "pygments_lexer": "ipython3",
   "version": "3.10.10"
  },
  "orig_nbformat": 4
 },
 "nbformat": 4,
 "nbformat_minor": 2
}
